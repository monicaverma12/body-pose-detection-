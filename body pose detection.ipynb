{
 "cells": [
  {
   "cell_type": "code",
   "execution_count": 1,
   "metadata": {},
   "outputs": [],
   "source": [
    "import cv2\n",
    "import mediapipe as mp\n",
    "import numpy as np\n",
    "mp_drawing = mp.solutions.drawing_utils\n",
    "mp_pose = mp.solutions.pose\n",
    "cap = cv2.VideoCapture(0)\n",
    "with mp_pose.Pose(min_detection_confidence=0.5, min_tracking_confidence=0.5) as pose:\n",
    "    while cap.isOpened():\n",
    "        ret, frame = cap.read()\n",
    "        # Recolor image to RGB\n",
    "        image = cv2.cvtColor(frame, cv2.COLOR_BGR2RGB)\n",
    "        image.flags.writeable = False\n",
    "          \n",
    "        # Make detection\n",
    "        results = pose.process(image)\n",
    "        \n",
    "        # Recolor back to BGR\n",
    "        image.flags.writeable = True\n",
    "        image = cv2.cvtColor(image, cv2.COLOR_RGB2BGR)    \n",
    "        landmarks = results.pose_landmarks.landmark\n",
    "        \n",
    "        # Render detections\n",
    "        mp_drawing.draw_landmarks(image, results.pose_landmarks, mp_pose.POSE_CONNECTIONS,\n",
    "                                mp_drawing.DrawingSpec(color=(1,2,1), thickness=5, circle_radius=1), \n",
    "                                mp_drawing.DrawingSpec(color=(1,66,230), thickness=5, circle_radius=1) \n",
    "                                 )         \n",
    "        cv2.imshow('Mediapipe Feed', image)\n",
    "\n",
    "        if cv2.waitKey(10) & 0xFF == ord('q'):    # If you click the q button, camera will shutdown.\n",
    "            break\n",
    "\n",
    "    cap.release()\n",
    "    cv2.destroyAllWindows()"
   ]
  },
  {
   "cell_type": "raw",
   "metadata": {},
   "source": [
    "!pip3 install opencv-python\n",
    "pip uninstall opencv-python-headless==4.5.5.62\n",
    "pip install opencv-python-headless==4.5.2.52"
   ]
  },
  {
   "cell_type": "code",
   "execution_count": 2,
   "metadata": {},
   "outputs": [
    {
     "data": {
      "text/plain": [
       "x: 0.7527098655700684\n",
       "y: 2.8504579067230225\n",
       "z: 0.7524496912956238\n",
       "visibility: 3.884515899699181e-05"
      ]
     },
     "execution_count": 2,
     "metadata": {},
     "output_type": "execute_result"
    }
   ],
   "source": [
    "landmarks[mp_pose.PoseLandmark.LEFT_HEEL.value]  # which make senses, because my camera did not see my left heel.\n",
    "# Therefore its visibility is almost 0."
   ]
  },
  {
   "cell_type": "code",
   "execution_count": 3,
   "metadata": {},
   "outputs": [
    {
     "data": {
      "text/plain": [
       "x: 0.8110420107841492\n",
       "y: 0.8623376488685608\n",
       "z: -0.6066159009933472\n",
       "visibility: 0.9916006326675415"
      ]
     },
     "execution_count": 3,
     "metadata": {},
     "output_type": "execute_result"
    }
   ],
   "source": [
    "landmarks[mp_pose.PoseLandmark.LEFT_SHOULDER.value] # which make senses, because my camera saw my left shoulder.\n",
    "# Therefore its visibility is almost 1."
   ]
  },
  {
   "cell_type": "code",
   "execution_count": 4,
   "metadata": {},
   "outputs": [
    {
     "data": {
      "text/plain": [
       "x: 0.6710669994354248\n",
       "y: 0.5470360517501831\n",
       "z: -0.9052830934524536\n",
       "visibility: 0.9985768795013428"
      ]
     },
     "execution_count": 4,
     "metadata": {},
     "output_type": "execute_result"
    }
   ],
   "source": [
    "landmarks[mp_pose.PoseLandmark.LEFT_EAR.value]"
   ]
  },
  {
   "cell_type": "code",
   "execution_count": 5,
   "metadata": {},
   "outputs": [
    {
     "data": {
      "text/plain": [
       "x: 0.4827217161655426\n",
       "y: 0.5527170300483704\n",
       "z: -0.9392975568771362\n",
       "visibility: 0.9993141889572144"
      ]
     },
     "execution_count": 5,
     "metadata": {},
     "output_type": "execute_result"
    }
   ],
   "source": [
    "landmarks[mp_pose.PoseLandmark.RIGHT_EAR.value] "
   ]
  },
  {
   "cell_type": "raw",
   "metadata": {},
   "source": [
    "What are these numbers? These are just coordinates, in order to make something we will need pixels. "
   ]
  },
  {
   "cell_type": "code",
   "execution_count": 6,
   "metadata": {},
   "outputs": [
    {
     "data": {
      "text/plain": [
       "(480, 640, 3)"
      ]
     },
     "execution_count": 6,
     "metadata": {},
     "output_type": "execute_result"
    }
   ],
   "source": [
    "image.shape   # our image has a shape (480, 640, 3)"
   ]
  },
  {
   "cell_type": "raw",
   "metadata": {},
   "source": [
    "Let's define a custom function then..."
   ]
  },
  {
   "cell_type": "code",
   "execution_count": 7,
   "metadata": {},
   "outputs": [],
   "source": [
    "def shaper(a):\n",
    "    a[0] = a[0] * 480            #height\n",
    "    a[1] = a[1] * 640            #weight\n",
    "    a[2] = a[2] * 3 \n",
    "    return a"
   ]
  },
  {
   "cell_type": "code",
   "execution_count": 8,
   "metadata": {},
   "outputs": [
    {
     "data": {
      "text/plain": [
       "array([[[160, 224,  96],\n",
       "        [ 64, 224, 128],\n",
       "        [160,  32, 224],\n",
       "        ...,\n",
       "        [224, 192,   0],\n",
       "        [  0, 224, 160],\n",
       "        [160, 160,   0]],\n",
       "\n",
       "       [[128, 128, 128],\n",
       "        [  0,   0, 128],\n",
       "        [128, 128, 128],\n",
       "        ...,\n",
       "        [128, 128,   0],\n",
       "        [  0,   0,   0],\n",
       "        [128,   0, 128]],\n",
       "\n",
       "       [[119,  20,  38],\n",
       "        [110,  20,  38],\n",
       "        [ 98,  26,  41],\n",
       "        ...,\n",
       "        [ 70,  88,  14],\n",
       "        [ 73,  85,  17],\n",
       "        [ 76,  85,  23]],\n",
       "\n",
       "       ...,\n",
       "\n",
       "       [[129, 125,  50],\n",
       "        [132, 128,  53],\n",
       "        [133, 128,  53],\n",
       "        ...,\n",
       "        [253, 255, 192],\n",
       "        [255, 255, 186],\n",
       "        [255, 255, 184]],\n",
       "\n",
       "       [[131, 124,  51],\n",
       "        [133, 126,  53],\n",
       "        [133, 126,  53],\n",
       "        ...,\n",
       "        [253, 255, 203],\n",
       "        [254, 255, 198],\n",
       "        [255, 255, 196]],\n",
       "\n",
       "       [[131, 124,  51],\n",
       "        [132, 125,  52],\n",
       "        [131, 124,  51],\n",
       "        ...,\n",
       "        [252, 255, 208],\n",
       "        [253, 255, 203],\n",
       "        [254, 255, 201]]], dtype=uint8)"
      ]
     },
     "execution_count": 8,
     "metadata": {},
     "output_type": "execute_result"
    }
   ],
   "source": [
    "shaper(image)"
   ]
  },
  {
   "cell_type": "code",
   "execution_count": 9,
   "metadata": {},
   "outputs": [
    {
     "data": {
      "text/plain": [
       "array([[[  0,   0,   0],\n",
       "        [  0,   0,   0],\n",
       "        [  0,   0,   0],\n",
       "        ...,\n",
       "        [  0,   0,   0],\n",
       "        [  0,   0,   0],\n",
       "        [  0,   0,   0]],\n",
       "\n",
       "       [[  0,   0,   0],\n",
       "        [  0,   0,   0],\n",
       "        [  0,   0,   0],\n",
       "        ...,\n",
       "        [  0,   0,   0],\n",
       "        [  0,   0,   0],\n",
       "        [  0,   0,   0]],\n",
       "\n",
       "       [[101,  60, 114],\n",
       "        [ 74,  60, 114],\n",
       "        [ 38,  78, 123],\n",
       "        ...,\n",
       "        [210,   8,  42],\n",
       "        [219, 255,  51],\n",
       "        [228, 255,  69]],\n",
       "\n",
       "       ...,\n",
       "\n",
       "       [[129, 125,  50],\n",
       "        [132, 128,  53],\n",
       "        [133, 128,  53],\n",
       "        ...,\n",
       "        [253, 255, 192],\n",
       "        [255, 255, 186],\n",
       "        [255, 255, 184]],\n",
       "\n",
       "       [[131, 124,  51],\n",
       "        [133, 126,  53],\n",
       "        [133, 126,  53],\n",
       "        ...,\n",
       "        [253, 255, 203],\n",
       "        [254, 255, 198],\n",
       "        [255, 255, 196]],\n",
       "\n",
       "       [[131, 124,  51],\n",
       "        [132, 125,  52],\n",
       "        [131, 124,  51],\n",
       "        ...,\n",
       "        [252, 255, 208],\n",
       "        [253, 255, 203],\n",
       "        [254, 255, 201]]], dtype=uint8)"
      ]
     },
     "execution_count": 9,
     "metadata": {},
     "output_type": "execute_result"
    }
   ],
   "source": [
    "pixel_image = shaper(image)\n",
    "pixel_image"
   ]
  },
  {
   "cell_type": "code",
   "execution_count": 10,
   "metadata": {},
   "outputs": [
    {
     "data": {
      "text/plain": [
       "(480, 640, 3)"
      ]
     },
     "execution_count": 10,
     "metadata": {},
     "output_type": "execute_result"
    }
   ],
   "source": [
    "pixel_image.shape"
   ]
  },
  {
   "cell_type": "raw",
   "metadata": {},
   "source": [
    "Now, lets try to find the pixel differences between left and right shoulder."
   ]
  },
  {
   "cell_type": "code",
   "execution_count": 11,
   "metadata": {},
   "outputs": [
    {
     "data": {
      "text/plain": [
       "x: 0.8110420107841492\n",
       "y: 0.8623376488685608\n",
       "z: -0.6066159009933472\n",
       "visibility: 0.9916006326675415"
      ]
     },
     "execution_count": 11,
     "metadata": {},
     "output_type": "execute_result"
    }
   ],
   "source": [
    "landmarks[mp_pose.PoseLandmark.LEFT_SHOULDER.value]"
   ]
  },
  {
   "cell_type": "code",
   "execution_count": 12,
   "metadata": {},
   "outputs": [],
   "source": [
    "a = landmarks[mp_pose.PoseLandmark.LEFT_SHOULDER.value]\n",
    "a_ = shaper(np.array((a.x, a.y, a.z)))"
   ]
  },
  {
   "cell_type": "code",
   "execution_count": 13,
   "metadata": {},
   "outputs": [
    {
     "data": {
      "text/plain": [
       "array([389.30016518, 551.89609528,  -1.8198477 ])"
      ]
     },
     "execution_count": 13,
     "metadata": {},
     "output_type": "execute_result"
    }
   ],
   "source": [
    "a_"
   ]
  },
  {
   "cell_type": "code",
   "execution_count": 14,
   "metadata": {},
   "outputs": [
    {
     "data": {
      "text/plain": [
       "x: 0.34887081384658813\n",
       "y: 0.8682756423950195\n",
       "z: -0.6183449029922485\n",
       "visibility: 0.9936127066612244"
      ]
     },
     "execution_count": 14,
     "metadata": {},
     "output_type": "execute_result"
    }
   ],
   "source": [
    "landmarks[mp_pose.PoseLandmark.RIGHT_SHOULDER.value]  # yeap, visible!"
   ]
  },
  {
   "cell_type": "code",
   "execution_count": 15,
   "metadata": {},
   "outputs": [],
   "source": [
    "b = landmarks[mp_pose.PoseLandmark.RIGHT_SHOULDER.value]\n",
    "b_ = shaper(np.array((b.x, b.y, b.z)))"
   ]
  },
  {
   "cell_type": "code",
   "execution_count": 16,
   "metadata": {},
   "outputs": [
    {
     "data": {
      "text/plain": [
       "array([167.45799065, 555.69641113,  -1.85503471])"
      ]
     },
     "execution_count": 16,
     "metadata": {},
     "output_type": "execute_result"
    }
   ],
   "source": [
    "b_"
   ]
  },
  {
   "cell_type": "code",
   "execution_count": 17,
   "metadata": {},
   "outputs": [
    {
     "name": "stdout",
     "output_type": "stream",
     "text": [
      "0 >>>>>  NOSE\n",
      "1 >>>>>  LEFT_EYE_INNER\n",
      "2 >>>>>  LEFT_EYE\n",
      "3 >>>>>  LEFT_EYE_OUTER\n",
      "4 >>>>>  RIGHT_EYE_INNER\n",
      "5 >>>>>  RIGHT_EYE\n",
      "6 >>>>>  RIGHT_EYE_OUTER\n",
      "7 >>>>>  LEFT_EAR\n",
      "8 >>>>>  RIGHT_EAR\n",
      "9 >>>>>  MOUTH_LEFT\n",
      "10 >>>>>  MOUTH_RIGHT\n",
      "11 >>>>>  LEFT_SHOULDER\n",
      "12 >>>>>  RIGHT_SHOULDER\n",
      "13 >>>>>  LEFT_ELBOW\n",
      "14 >>>>>  RIGHT_ELBOW\n",
      "15 >>>>>  LEFT_WRIST\n",
      "16 >>>>>  RIGHT_WRIST\n",
      "17 >>>>>  LEFT_PINKY\n",
      "18 >>>>>  RIGHT_PINKY\n",
      "19 >>>>>  LEFT_INDEX\n",
      "20 >>>>>  RIGHT_INDEX\n",
      "21 >>>>>  LEFT_THUMB\n",
      "22 >>>>>  RIGHT_THUMB\n",
      "23 >>>>>  LEFT_HIP\n",
      "24 >>>>>  RIGHT_HIP\n",
      "25 >>>>>  LEFT_KNEE\n",
      "26 >>>>>  RIGHT_KNEE\n",
      "27 >>>>>  LEFT_ANKLE\n",
      "28 >>>>>  RIGHT_ANKLE\n",
      "29 >>>>>  LEFT_HEEL\n",
      "30 >>>>>  RIGHT_HEEL\n",
      "31 >>>>>  LEFT_FOOT_INDEX\n",
      "32 >>>>>  RIGHT_FOOT_INDEX\n"
     ]
    }
   ],
   "source": [
    "for no, lndmrk in enumerate(mp_pose.PoseLandmark):\n",
    "    print(no, end = \" >>>>>  \")\n",
    "    print(str(lndmrk).split(\".\",1)[1])"
   ]
  },
  {
   "cell_type": "code",
   "execution_count": null,
   "metadata": {},
   "outputs": [],
   "source": []
  },
  {
   "cell_type": "code",
   "execution_count": null,
   "metadata": {},
   "outputs": [],
   "source": []
  }
 ],
 "metadata": {
  "kernelspec": {
   "display_name": "Python 3",
   "language": "python",
   "name": "python3"
  },
  "language_info": {
   "codemirror_mode": {
    "name": "ipython",
    "version": 3
   },
   "file_extension": ".py",
   "mimetype": "text/x-python",
   "name": "python",
   "nbconvert_exporter": "python",
   "pygments_lexer": "ipython3",
   "version": "3.8.8"
  }
 },
 "nbformat": 4,
 "nbformat_minor": 4
}
